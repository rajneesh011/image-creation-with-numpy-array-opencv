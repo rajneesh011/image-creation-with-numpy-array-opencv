{
 "cells": [
  {
   "cell_type": "code",
   "execution_count": 27,
   "metadata": {},
   "outputs": [],
   "source": [
    "import numpy as np\n"
   ]
  },
  {
   "cell_type": "code",
   "execution_count": 28,
   "metadata": {},
   "outputs": [],
   "source": [
    "import cv2\n"
   ]
  },
  {
   "cell_type": "code",
   "execution_count": 29,
   "metadata": {},
   "outputs": [],
   "source": [
    "#create pixel block with hit and trail to get required result \n",
    "image = np.zeros((600, 600, 3))\n",
    "image[58:158, 200:300] = [0, 0, 255]\n",
    "image[162:262, 200:300] = [255, 0, 0]\n",
    "image[58:158, 304:402] = [0, 255, 0]\n",
    "image[162:262, 304:402] = [0, 187, 255]\n",
    "\n"
   ]
  },
  {
   "cell_type": "code",
   "execution_count": 30,
   "metadata": {},
   "outputs": [],
   "source": [
    "cv2.imshow(\"myimage\",image)\n",
    "cv2.waitKey()\n",
    "cv2.destroyAllWindows()"
   ]
  },
  {
   "cell_type": "code",
   "execution_count": 31,
   "metadata": {},
   "outputs": [],
   "source": [
    "#creating image 2\n",
    "image2 = np.zeros((600, 600, 3))\n",
    "\n",
    "image2[92:94, 110:199] = [255, 255, 255]\n",
    "image2[192:194, 110:199] = [255, 255, 255]\n",
    "image2[262:362, 252:254] = [255, 255, 255]\n",
    "image2[262:362, 352:354] = [255, 255, 255]\n",
    "image2[92:94, 402:504] = [255, 255, 255]\n",
    "image2[200:202, 402:504] = [255, 255, 255]\n",
    "image2[:56, 252:254] = [255, 255, 255]\n",
    "image2[: 56, 352:354] = [255, 255, 255]\n"
   ]
  },
  {
   "cell_type": "code",
   "execution_count": 32,
   "metadata": {},
   "outputs": [],
   "source": [
    "cv2.imshow(\"image2\",image2)\n",
    "cv2.waitKey()\n",
    "cv2.destroyAllWindows()"
   ]
  },
  {
   "cell_type": "code",
   "execution_count": 33,
   "metadata": {},
   "outputs": [],
   "source": [
    "import time\n",
    "i=1\n",
    "while True: \n",
    "    if(i%2==0):\n",
    "        cv2.imshow(\"photo\",image)\n",
    "    else:\n",
    "        cv2.imshow(\"photo\",image2)\n",
    "    if cv2.waitKey(10)==13:\n",
    "        break\n",
    "    i=i+1\n",
    "    time.sleep(0.5)\n",
    "cv2.destroyAllWindows()"
   ]
  },
  {
   "cell_type": "code",
   "execution_count": null,
   "metadata": {},
   "outputs": [],
   "source": []
  },
  {
   "cell_type": "code",
   "execution_count": null,
   "metadata": {},
   "outputs": [],
   "source": []
  }
 ],
 "metadata": {
  "kernelspec": {
   "display_name": "Python 3",
   "language": "python",
   "name": "python3"
  },
  "language_info": {
   "codemirror_mode": {
    "name": "ipython",
    "version": 3
   },
   "file_extension": ".py",
   "mimetype": "text/x-python",
   "name": "python",
   "nbconvert_exporter": "python",
   "pygments_lexer": "ipython3",
   "version": "3.8.3"
  }
 },
 "nbformat": 4,
 "nbformat_minor": 4
}
